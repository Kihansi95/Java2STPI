{
 "cells": [
  {
   "cell_type": "markdown",
   "id": "adverse-state",
   "metadata": {},
   "source": [
    "# Algorithmique et Programmation Orientée Objet en Java\n",
    "## TD3: Classe abstraite"
   ]
  },
  {
   "cell_type": "markdown",
   "id": "consecutive-being",
   "metadata": {},
   "source": [
    "**1. Programmer en Java les classes Humain et Etudiant correspondant au diagramme UML précédent.**"
   ]
  },
  {
   "cell_type": "code",
   "execution_count": null,
   "id": "occupied-property",
   "metadata": {},
   "outputs": [],
   "source": [
    "//TODO: class Humain"
   ]
  },
  {
   "cell_type": "code",
   "execution_count": null,
   "id": "retired-threshold",
   "metadata": {},
   "outputs": [],
   "source": [
    "//TODO: class Etudiant"
   ]
  },
  {
   "cell_type": "code",
   "execution_count": null,
   "id": "moved-polish",
   "metadata": {},
   "outputs": [],
   "source": [
    "//Qu'est que vous remarquez?\n",
    "Humain h = new Humain();"
   ]
  },
  {
   "cell_type": "code",
   "execution_count": null,
   "id": "together-overview",
   "metadata": {},
   "outputs": [],
   "source": [
    "**2. Faire en sorte que Employe et Personne soient imprimables\n",
    "**"
   ]
  },
  {
   "cell_type": "code",
   "execution_count": null,
   "id": "aggregate-iceland",
   "metadata": {},
   "outputs": [],
   "source": []
  }
 ],
 "metadata": {
  "kernelspec": {
   "display_name": "Java",
   "language": "java",
   "name": "java"
  },
  "language_info": {
   "codemirror_mode": "java",
   "file_extension": ".jshell",
   "mimetype": "text/x-java-source",
   "name": "Java",
   "pygments_lexer": "java",
   "version": "15.0.1+9-18"
  }
 },
 "nbformat": 4,
 "nbformat_minor": 5
}
