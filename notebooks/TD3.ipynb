{
 "cells": [
  {
   "cell_type": "markdown",
   "id": "promotional-hotel",
   "metadata": {},
   "source": [
    "# Algorithmique et Programmation Orientée Objet en Java\n",
    "## TD3: Classe abstraite"
   ]
  },
  {
   "cell_type": "markdown",
   "id": "unable-bottom",
   "metadata": {},
   "source": [
    "**1. Programmer en Java les classes Humain et Etudiant correspondant au diagramme UML précédent.**"
   ]
  },
  {
   "cell_type": "code",
   "execution_count": null,
   "id": "decreased-photography",
   "metadata": {},
   "outputs": [],
   "source": [
    "class Etudiant {\n",
    "    \n",
    "\n",
    "    private String numeroEtudiant;\n",
    "    \n",
    "    public void noter(Matière matère) {\n",
    "        // sauvegarder math.note();\n",
    "    }\n",
    "    \n",
    "}\n"
   ]
  },
  {
   "cell_type": "code",
   "execution_count": null,
   "id": "recorded-environment",
   "metadata": {},
   "outputs": [],
   "source": []
  },
  {
   "cell_type": "code",
   "execution_count": null,
   "id": "junior-printer",
   "metadata": {},
   "outputs": [],
   "source": []
  },
  {
   "cell_type": "code",
   "execution_count": null,
   "id": "complicated-bonus",
   "metadata": {},
   "outputs": [],
   "source": []
  },
  {
   "cell_type": "code",
   "execution_count": null,
   "id": "ecological-wrong",
   "metadata": {},
   "outputs": [],
   "source": []
  },
  {
   "cell_type": "code",
   "execution_count": null,
   "id": "composed-witch",
   "metadata": {},
   "outputs": [],
   "source": []
  },
  {
   "cell_type": "code",
   "execution_count": 4,
   "id": "polish-aside",
   "metadata": {},
   "outputs": [],
   "source": [
    "//TODO: class Humain\n",
    "public abstract class Humain {\n",
    "    protected int age;\n",
    "    \n",
    "    public int getAge() {\n",
    "        return this.age;\n",
    "    }\n",
    "    \n",
    "    public abstract String toString();\n",
    "}"
   ]
  },
  {
   "cell_type": "code",
   "execution_count": 6,
   "id": "together-hayes",
   "metadata": {},
   "outputs": [],
   "source": [
    "//TODO: class Etudiant\n",
    "public class Etudiant extends Humain {\n",
    "    protected String nom;\n",
    "    protected String departement;\n",
    "    \n",
    "    public String getNom() {\n",
    "        return this.nom;\n",
    "    }\n",
    "    \n",
    "    public String getDepartement() {\n",
    "        return this.departement;\n",
    "    }\n",
    "    \n",
    "    public String toString() {\n",
    "        return \"student \" + this.nom + \" at dep \"+ this.departement; \n",
    "    }\n",
    "}"
   ]
  },
  {
   "cell_type": "code",
   "execution_count": 9,
   "id": "classified-jumping",
   "metadata": {},
   "outputs": [],
   "source": [
    "Etudiant e = new Etudiant();"
   ]
  },
  {
   "cell_type": "markdown",
   "id": "interesting-minutes",
   "metadata": {},
   "source": [
    "**2. Faire en sorte que Employe et Personne soient imprimables.**\n",
    "\n",
    "```java\n",
    "void imprimerEnCadre(Imprimable i) {\n",
    "    System.out.println(\"---------------\");\n",
    "    i.imprime();\n",
    "    System.out.println(\"---------------\");\n",
    "}\n",
    "```"
   ]
  },
  {
   "cell_type": "code",
   "execution_count": null,
   "id": "central-restoration",
   "metadata": {},
   "outputs": [],
   "source": [
    "for (int i = 0; i < size; i++) {\n",
    "    o = liste[i];\n",
    "}\n",
    "\n",
    "\n",
    "for (Iterator it = liste.iterator(); it.hasNext(); it.next()) {\n",
    "    o = iterator.get();\n",
    "}"
   ]
  },
  {
   "cell_type": "code",
   "execution_count": null,
   "id": "adjustable-qualification",
   "metadata": {},
   "outputs": [],
   "source": []
  },
  {
   "cell_type": "code",
   "execution_count": null,
   "id": "certain-vinyl",
   "metadata": {},
   "outputs": [],
   "source": []
  },
  {
   "cell_type": "code",
   "execution_count": null,
   "id": "adolescent-release",
   "metadata": {},
   "outputs": [],
   "source": []
  },
  {
   "cell_type": "code",
   "execution_count": null,
   "id": "italic-manhattan",
   "metadata": {},
   "outputs": [],
   "source": []
  },
  {
   "cell_type": "code",
   "execution_count": 14,
   "id": "fifteen-salvation",
   "metadata": {},
   "outputs": [],
   "source": [
    "public interface Imprimable {\n",
    "    void imprime();\n",
    "}"
   ]
  },
  {
   "cell_type": "code",
   "execution_count": 15,
   "id": "latest-reporter",
   "metadata": {},
   "outputs": [],
   "source": [
    "public abstract class Humain implements Imprimable {\n",
    "    protected int age;\n",
    "    \n",
    "    public int getAge() {\n",
    "        return this.age;\n",
    "    }\n",
    "    \n",
    "    public abstract String toString();\n",
    "}"
   ]
  },
  {
   "cell_type": "code",
   "execution_count": 18,
   "id": "rental-indie",
   "metadata": {},
   "outputs": [],
   "source": [
    "import java.lang.String"
   ]
  },
  {
   "cell_type": "code",
   "execution_count": 23,
   "id": "approved-green",
   "metadata": {},
   "outputs": [],
   "source": [
    "public class Etudiant extends Humain {\n",
    "    protected String nom;\n",
    "    protected String departement;\n",
    "    \n",
    "    public Etudiant(String nom, String departement) {\n",
    "        this.nom = nom;\n",
    "        this.departement = departement;\n",
    "    }\n",
    "    \n",
    "    public String getNom() {\n",
    "        return this.nom;\n",
    "    }\n",
    "    \n",
    "    public String getDepartement() {\n",
    "        return this.departement;\n",
    "    }\n",
    "    \n",
    "    public String toString() {\n",
    "        return \"student \" + this.nom + \" at dep \"+ this.departement; \n",
    "    }\n",
    "    \n",
    "    public void imprime() {\n",
    "        System.out.println(\"---------------\");\n",
    "        System.out.println(this);\n",
    "        System.out.println(\"---------------\");\n",
    "    }\n",
    "}"
   ]
  },
  {
   "cell_type": "markdown",
   "id": "electrical-treat",
   "metadata": {},
   "source": [
    "Exemple d'utilisaton"
   ]
  },
  {
   "cell_type": "code",
   "execution_count": 26,
   "id": "welcome-likelihood",
   "metadata": {},
   "outputs": [
    {
     "name": "stdout",
     "output_type": "stream",
     "text": [
      "---------------\n",
      "student George at dep titi\n",
      "---------------\n",
      "---------------\n",
      "student Alex at dep toto\n",
      "---------------\n",
      "---------------\n",
      "student Lucas at dep tata\n",
      "---------------\n"
     ]
    }
   ],
   "source": [
    "Humain p1 = new Etudiant(\"Alex\", \"toto\");\n",
    "Etudiant p2 = new Etudiant(\"Lucas\", \"tata\");\t\n",
    "Imprimable i1 = new Etudiant(\"George\", \"titi\");\n",
    "i1.imprime();\n",
    "i2.imprime();\n",
    "i3.imprime();"
   ]
  },
  {
   "cell_type": "markdown",
   "id": "stopped-syria",
   "metadata": {},
   "source": [
    "**3. Rendre la class Rectangle imprimable** "
   ]
  },
  {
   "cell_type": "code",
   "execution_count": 32,
   "id": "headed-jordan",
   "metadata": {},
   "outputs": [],
   "source": [
    "public class Point {\n",
    "    private int x, y;\n",
    "    \n",
    "    public Point(int x, int y) {\n",
    "        this.x = x; this.y = y;\n",
    "    }\n",
    "    \n",
    "    public String toString() {\n",
    "        return \"(\" + x + \",\" + y + \")\";\n",
    "    }\n",
    "}\n",
    "\n",
    "public class Rectangle implements Imprimable {\n",
    "    private Point pHG;\n",
    "    private Point pBD;\n",
    "    \n",
    "    public Rectangle(Point p1, Point p2) {\n",
    "        this.pHG = p1;\n",
    "        this.pBD = p2;\n",
    "    }\n",
    "    \n",
    "    public String affiche() {\n",
    "        return \"Rectangle [\" + pHG + \",\" + pBD + \"]\";\n",
    "    }\n",
    "    \n",
    "    public void imprime() {\n",
    "        System.out.println(this.affiche());\n",
    "    }\n",
    "}"
   ]
  },
  {
   "cell_type": "code",
   "execution_count": 33,
   "id": "generous-surface",
   "metadata": {},
   "outputs": [
    {
     "name": "stdout",
     "output_type": "stream",
     "text": [
      "---------------\n",
      "student Alex at dep toto\n",
      "---------------\n",
      "---------------\n",
      "student Lucas at dep titi\n",
      "---------------\n",
      "Rectangle [(1,1),(100,100)]\n"
     ]
    }
   ],
   "source": [
    "Humain h = new Etudiant(\"Alex\", \"toto\");\n",
    "Etudiant e = new Etudiant(\"Lucas\", \"titi\");\n",
    "Rectangle r1 = new Rectangle( new Point(1,1), new Point(100,100) );\n",
    "\n",
    "Imprimable[ ] tabImpression = new Imprimable[3];\n",
    "tabImpression[0]=h;\n",
    "tabImpression[1]=e;\n",
    "tabImpression[2]=r1;\n",
    "for (int i=0; i<tabImpression.length; i++) {\n",
    "    tabImpression[i].imprime();\n",
    "}"
   ]
  },
  {
   "cell_type": "markdown",
   "id": "global-acoustic",
   "metadata": {},
   "source": [
    "**Exercice extra**"
   ]
  },
  {
   "cell_type": "code",
   "execution_count": 34,
   "id": "chinese-fairy",
   "metadata": {},
   "outputs": [],
   "source": [
    "import java.util.*"
   ]
  },
  {
   "cell_type": "code",
   "execution_count": 51,
   "id": "floating-holmes",
   "metadata": {},
   "outputs": [
    {
     "name": "stdout",
     "output_type": "stream",
     "text": [
      "---------------\n",
      "student Alex at dep dep 1\n",
      "---------------\n",
      "---------------\n",
      "student Lucie at dep dep 2\n",
      "---------------\n",
      "After remove\n",
      "---------------\n",
      "student Lucie at dep dep 2\n",
      "---------------\n"
     ]
    }
   ],
   "source": [
    "List<Etudiant> list = new ArrayList<Etudiant>();\n",
    "Etudiant e1 = new Etudiant(\"Alex\", \"dep 1\");\n",
    "list.add(e1);\n",
    "list.add(new Etudiant(\"Lucie\", \"dep 2\"));\n",
    "\n",
    "for(Etudiant i: list) {\n",
    "    i.imprime();\n",
    "}\n",
    "\n",
    "list.remove(e1);\n",
    "System.out.println(\"After remove\");\n",
    "for(Etudiant i: list) {\n",
    "    i.imprime();\n",
    "}"
   ]
  },
  {
   "cell_type": "code",
   "execution_count": 55,
   "id": "confidential-morning",
   "metadata": {},
   "outputs": [
    {
     "name": "stdout",
     "output_type": "stream",
     "text": [
      "---------------\n",
      "student Alex at dep dep 1\n",
      "---------------\n",
      "---------------\n",
      "student Lucie at dep dep 2\n",
      "---------------\n",
      "After remove\n",
      "---------------\n",
      "student Lucie at dep dep 2\n",
      "---------------\n"
     ]
    }
   ],
   "source": [
    "List<Etudiant> list = new ArrayList<Etudiant>();\n",
    "Etudiant e1 = new Etudiant(\"Alex\", \"dep 1\");\n",
    "list.add(e1);\n",
    "list.add(new Etudiant(\"Lucie\", \"dep 2\"));\n",
    "\n",
    "for(Etudiant i: list) {\n",
    "    i.imprime();\n",
    "}\n",
    "\n",
    "list.remove(0);\n",
    "\n",
    "System.out.println(\"After remove\");\n",
    "for(Etudiant i: list) {\n",
    "    i.imprime();\n",
    "}"
   ]
  },
  {
   "cell_type": "code",
   "execution_count": 45,
   "id": "broke-calcium",
   "metadata": {},
   "outputs": [
    {
     "name": "stdout",
     "output_type": "stream",
     "text": [
      "---------------\n",
      "student Alex at dep dep 1\n",
      "---------------\n",
      "---------------\n",
      "student Alex 2 at dep dep 2\n",
      "---------------\n",
      "---------------\n",
      "student Alex 3 at dep dep 3\n",
      "---------------\n"
     ]
    }
   ],
   "source": [
    "Humain tab[] = new Humain[3];\n",
    "tab[0] = new Etudiant(\"Alex\", \"dep 1\");\n",
    "tab[1] = new Etudiant(\"Alex 2\", \"dep 2\");\n",
    "tab[2] = new Etudiant(\"Alex 3\", \"dep 3\");\n",
    "\n",
    "for(Imprimable i: tab) {\n",
    "    i.imprime();\n",
    "}"
   ]
  },
  {
   "cell_type": "code",
   "execution_count": 58,
   "id": "rising-drink",
   "metadata": {},
   "outputs": [],
   "source": [
    "public abstract class Class1 {\n",
    "    \n",
    "}"
   ]
  }
 ],
 "metadata": {
  "kernelspec": {
   "display_name": "Java",
   "language": "java",
   "name": "java"
  },
  "language_info": {
   "codemirror_mode": "java",
   "file_extension": ".jshell",
   "mimetype": "text/x-java-source",
   "name": "Java",
   "pygments_lexer": "java",
   "version": "15.0.1+9-18"
  }
 },
 "nbformat": 4,
 "nbformat_minor": 5
}
