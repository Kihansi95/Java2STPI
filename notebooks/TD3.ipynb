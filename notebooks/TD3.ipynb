{
 "cells": [
  {
   "cell_type": "markdown",
   "id": "indirect-windows",
   "metadata": {},
   "source": [
    "# Algorithmique et Programmation Orientée Objet en Java\n",
    "## TD3: Classe abstraite"
   ]
  },
  {
   "cell_type": "markdown",
   "id": "present-preparation",
   "metadata": {},
   "source": [
    "**1. Programmer en Java les classes Humain et Etudiant correspondant au diagramme UML précédent.**"
   ]
  },
  {
   "cell_type": "code",
   "execution_count": 4,
   "id": "immune-belize",
   "metadata": {},
   "outputs": [],
   "source": [
    "//TODO: class Humain\n",
    "public abstract class Humain {\n",
    "    protected int age;\n",
    "    \n",
    "    public int getAge() {\n",
    "        return this.age;\n",
    "    }\n",
    "    \n",
    "    public abstract String toString();\n",
    "}"
   ]
  },
  {
   "cell_type": "code",
   "execution_count": 6,
   "id": "acceptable-collector",
   "metadata": {},
   "outputs": [],
   "source": [
    "//TODO: class Etudiant\n",
    "public class Etudiant extends Humain {\n",
    "    protected String nom;\n",
    "    protected String departement;\n",
    "    \n",
    "    public String getNom() {\n",
    "        return this.nom;\n",
    "    }\n",
    "    \n",
    "    public String getDepartement() {\n",
    "        return this.departement;\n",
    "    }\n",
    "    \n",
    "    public String toString() {\n",
    "        return \"student \" + this.nom + \" at dep \"+ this.departement; \n",
    "    }\n",
    "}"
   ]
  },
  {
   "cell_type": "code",
   "execution_count": 9,
   "id": "approximate-accreditation",
   "metadata": {},
   "outputs": [],
   "source": [
    "Etudiant e = new Etudiant();"
   ]
  },
  {
   "cell_type": "markdown",
   "id": "colored-acrobat",
   "metadata": {},
   "source": [
    "**2. Faire en sorte que Employe et Personne soient imprimables.**\n",
    "\n",
    "```java\n",
    "void imprimerEnCadre(Imprimable i) {\n",
    "    System.out.println(\"---------------\");\n",
    "    i.imprime();\n",
    "    System.out.println(\"---------------\");\n",
    "}\n",
    "```"
   ]
  },
  {
   "cell_type": "code",
   "execution_count": null,
   "id": "funny-boring",
   "metadata": {},
   "outputs": [],
   "source": [
    "// Imprimable"
   ]
  },
  {
   "cell_type": "markdown",
   "id": "coastal-palestinian",
   "metadata": {},
   "source": [
    "Exemple d'utilisaton"
   ]
  },
  {
   "cell_type": "code",
   "execution_count": null,
   "id": "silver-queens",
   "metadata": {},
   "outputs": [],
   "source": [
    "Personne p1 = new Personne(29, \"toto\");\n",
    "Personne p2 = new Personne(27, \"tata\");\t\n",
    "Imprimable i1 = new Employe(29, \"titi\",7000);\n",
    "Imprimable i2 = p1;\n",
    "Imprimable i3 = p2;\n",
    "i1.imprime();\n",
    "i2.imprime();\n",
    "i3.imprime();"
   ]
  },
  {
   "cell_type": "markdown",
   "id": "tough-welcome",
   "metadata": {},
   "source": [
    "**3. Rendre la class Rectangle imprimable** "
   ]
  },
  {
   "cell_type": "code",
   "execution_count": 13,
   "id": "renewable-realtor",
   "metadata": {},
   "outputs": [],
   "source": [
    "public class Point {\n",
    "    private int x, y;\n",
    "    \n",
    "    public Point(int x, int y) {\n",
    "        this.x = x; this.y = y;\n",
    "    }\n",
    "    \n",
    "    public String toString() {\n",
    "        return \"(\" + x + \",\" + y + \")\";\n",
    "    }\n",
    "}\n",
    "\n",
    "public class Rectangle {\n",
    "    private Point pHG;\n",
    "    private Point pBD;\n",
    "    \n",
    "    public Rectangle(Point p1, Point p2) {\n",
    "        this.pHG = p1;\n",
    "        this.pBD = p2;\n",
    "    }\n",
    "    \n",
    "    public String affiche() {\n",
    "        return \"Rectangle [\" + pHG + \",\" + pBD + \"]\";\n",
    "    }\n",
    "    \n",
    "    //TODO:  imprimable\n",
    "}"
   ]
  },
  {
   "cell_type": "code",
   "execution_count": null,
   "id": "wicked-sweden",
   "metadata": {},
   "outputs": [],
   "source": [
    "Personne p1\t= new Personne(29, \"toto\");\n",
    "Employe e1  \t= new Employe(29, \"titi\", 7000);\n",
    "Rectangle r1 \t= new Rectangle( new Point(1,1), new Point(100,100) );\n",
    "\n",
    "Imprimable[ ] tabImpression = new Imprimable[3];\n",
    "tabImpression[0]=p1;\n",
    "tabImpression[1]=e1;\n",
    "tabImpression[2]=r1;\n",
    "for (int i=0; i<tabImpression.length; i++) {\n",
    "    tabImpression[i].imprime();\n",
    "}"
   ]
  }
 ],
 "metadata": {
  "kernelspec": {
   "display_name": "Java",
   "language": "java",
   "name": "java"
  },
  "language_info": {
   "codemirror_mode": "java",
   "file_extension": ".jshell",
   "mimetype": "text/x-java-source",
   "name": "Java",
   "pygments_lexer": "java",
   "version": "15.0.1+9-18"
  }
 },
 "nbformat": 4,
 "nbformat_minor": 5
}
