{
 "cells": [
  {
   "cell_type": "markdown",
   "id": "superb-doctrine",
   "metadata": {},
   "source": [
    "# TD1"
   ]
  },
  {
   "cell_type": "markdown",
   "id": "macro-transaction",
   "metadata": {},
   "source": [
    "## Exercices"
   ]
  },
  {
   "cell_type": "markdown",
   "id": "sacred-thunder",
   "metadata": {},
   "source": [
    "Compléter la méthode suivante afin qu'elle rende la moyenne de 2 nombres réels :"
   ]
  },
  {
   "cell_type": "code",
   "execution_count": 33,
   "id": "cathedral-google",
   "metadata": {},
   "outputs": [
    {
     "ename": "CompilationException",
     "evalue": "",
     "output_type": "error",
     "traceback": [
      "\u001b[1m\u001b[30m|   \u001b[1m\u001b[30mdouble moyenne(double a, double b) \u001b[0m\u001b[1m\u001b[30m\u001b[41m{\u001b[0m",
      "\u001b[1m\u001b[30m|   \u001b[1m\u001b[30m\u001b[41m    // à compléter\u001b[0m",
      "\u001b[1m\u001b[30m|   \u001b[1m\u001b[30m\u001b[41m}\u001b[0m",
      "\u001b[1m\u001b[31mmissing return statement\u001b[0m",
      ""
     ]
    }
   ],
   "source": [
    "double moyenne(double a, double b) {\n",
    "    // à compléter\n",
    "}\n",
    "\n",
    "System.out.println(moyenne(5,10));\n",
    "System.out.println(moyenne(2.5,7.5));"
   ]
  },
  {
   "cell_type": "markdown",
   "id": "empty-bulgarian",
   "metadata": {},
   "source": [
    "Compléter la méthode suivante qui recherche si un entier est présent dans un tableau :"
   ]
  },
  {
   "cell_type": "code",
   "execution_count": 37,
   "id": "least-temple",
   "metadata": {},
   "outputs": [
    {
     "ename": "CompilationException",
     "evalue": "",
     "output_type": "error",
     "traceback": [
      "\u001b[1m\u001b[30m|   \u001b[1m\u001b[30mboolean contient(int[] ensemble, int valeur) \u001b[0m\u001b[1m\u001b[30m\u001b[41m{\u001b[0m",
      "\u001b[1m\u001b[30m|   \u001b[1m\u001b[30m\u001b[41m    // à compléter\u001b[0m",
      "\u001b[1m\u001b[30m|   \u001b[1m\u001b[30m\u001b[41m}\u001b[0m",
      "\u001b[1m\u001b[31mmissing return statement\u001b[0m",
      ""
     ]
    }
   ],
   "source": [
    "boolean contient(int[] ensemble, int valeur) {\n",
    "    // à compléter\n",
    "}\n",
    "\n",
    "int[] ensemble = new int[] { 10, 5, 6 };\n",
    "System.out.println(contient(ensemble, 3));\n",
    "System.out.println(contient(ensemble, 5));"
   ]
  },
  {
   "cell_type": "markdown",
   "id": "civil-modeling",
   "metadata": {},
   "source": [
    "## La classe Point"
   ]
  },
  {
   "cell_type": "code",
   "execution_count": 53,
   "id": "usual-trash",
   "metadata": {},
   "outputs": [],
   "source": [
    "public class Point {\n",
    "    private int x;\n",
    "    private int y;\n",
    "    \n",
    "    public int x() {\n",
    "        return this.x;\n",
    "    }\n",
    "    \n",
    "    public int y() {\n",
    "        return y;\n",
    "    }\n",
    "    \n",
    "    public Point(int cx, int cy) {\n",
    "        this.x = cx;\n",
    "        y = cy;\n",
    "    }\n",
    "    \n",
    "    public void deplace(int dx, int dy) {\n",
    "        this.x += dx;\n",
    "        y += dy;\n",
    "    }\n",
    "    \n",
    "    public void deplace(int d) {\n",
    "        this.x += d;\n",
    "        y += d;\n",
    "    }\n",
    "}"
   ]
  },
  {
   "cell_type": "code",
   "execution_count": 52,
   "id": "center-insulation",
   "metadata": {},
   "outputs": [
    {
     "name": "stdout",
     "output_type": "stream",
     "text": [
      "p1 : (10,10)\n",
      "p2 : (20,20)\n",
      "p2 après deplacement de (1,1) : (21,21)\n"
     ]
    }
   ],
   "source": [
    "Point p1 = new Point(10, 10);\n",
    "Point p2 = new Point(20, 20);\n",
    "System.out.println(\"p1 : (\" + p1.x() + \",\" + p1.y() + \")\");\n",
    "System.out.println(\"p2 : (\" + p2.x() + \",\" + p2.y() + \")\");\n",
    "p2.deplace(1,1);\n",
    "System.out.println(\"p2 après deplacement de (1,1) : (\" + p2.x() + \",\" + p2.y() + \")\");"
   ]
  },
  {
   "cell_type": "code",
   "execution_count": null,
   "id": "polyphonic-climate",
   "metadata": {},
   "outputs": [],
   "source": []
  }
 ],
 "metadata": {
  "kernelspec": {
   "display_name": "Java",
   "language": "java",
   "name": "java"
  },
  "language_info": {
   "codemirror_mode": "java",
   "file_extension": ".jshell",
   "mimetype": "text/x-java-source",
   "name": "Java",
   "pygments_lexer": "java",
   "version": "11.0.7+10"
  }
 },
 "nbformat": 4,
 "nbformat_minor": 5
}
