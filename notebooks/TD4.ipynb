{
 "cells": [
  {
   "cell_type": "markdown",
   "id": "romantic-child",
   "metadata": {},
   "source": [
    "# Algorithmique et Programmation Orientée Objet en Java\n",
    "## Les exceptions\n",
    "## Les entrées-sorties"
   ]
  },
  {
   "cell_type": "markdown",
   "id": "developing-canyon",
   "metadata": {},
   "source": [
    "**Exceptions déjà rencontrées**"
   ]
  },
  {
   "cell_type": "code",
   "execution_count": 2,
   "id": "constant-potato",
   "metadata": {},
   "outputs": [
    {
     "name": "stdout",
     "output_type": "stream",
     "text": [
      "10\n",
      "20\n"
     ]
    },
    {
     "ename": "EvalException",
     "evalue": "/ by zero",
     "output_type": "error",
     "traceback": [
      "\u001b[1m\u001b[31m---------------------------------------------------------------------------\u001b[0m",
      "\u001b[1m\u001b[31mjava.lang.ArithmeticException: / by zero\u001b[0m",
      "\u001b[1m\u001b[31m\tat .(#14:1)\u001b[0m"
     ]
    }
   ],
   "source": [
    "int[] tab = {2, 1, 0, -1};\n",
    "for (int val : tab) {\n",
    "    System.out.println(20/val);\n",
    "}"
   ]
  },
  {
   "cell_type": "code",
   "execution_count": 3,
   "id": "every-success",
   "metadata": {},
   "outputs": [
    {
     "name": "stdout",
     "output_type": "stream",
     "text": [
      "4\n",
      "0\n",
      "-1\n"
     ]
    },
    {
     "ename": "EvalException",
     "evalue": "Index 3 out of bounds for length 3",
     "output_type": "error",
     "traceback": [
      "\u001b[1m\u001b[31m---------------------------------------------------------------------------\u001b[0m",
      "\u001b[1m\u001b[31mjava.lang.ArrayIndexOutOfBoundsException: Index 3 out of bounds for length 3\u001b[0m",
      "\u001b[1m\u001b[31m\tat .(#16:1)\u001b[0m"
     ]
    }
   ],
   "source": [
    "int[] tab = {4, 0, -1};\n",
    "int i = 0;\n",
    "while (i <= tab.length) {\n",
    "    System.out.println(tab[i]);\n",
    "    i++;\n",
    "}\n",
    "System.out.println(\"done\");"
   ]
  },
  {
   "cell_type": "markdown",
   "id": "positive-thunder",
   "metadata": {},
   "source": [
    "**Capture des exceptions**"
   ]
  },
  {
   "cell_type": "code",
   "execution_count": 4,
   "id": "limited-gazette",
   "metadata": {},
   "outputs": [
    {
     "name": "stdout",
     "output_type": "stream",
     "text": [
      "10\n",
      "20\n",
      "Division par zéro\n",
      "done\n"
     ]
    }
   ],
   "source": [
    "int[] tab = {2, 1, 0, -1};\n",
    "try {\n",
    "    for (int val : tab) {\n",
    "        System.out.println(20/val);\n",
    "    }\n",
    "} catch(ArithmeticException e) {\n",
    "    System.out.println(\"Division par zéro\");\n",
    "}\n",
    "System.out.println(\"done\");"
   ]
  },
  {
   "cell_type": "markdown",
   "id": "practical-russia",
   "metadata": {},
   "source": [
    "**Avec la propagation**"
   ]
  },
  {
   "cell_type": "code",
   "execution_count": null,
   "id": "destroyed-power",
   "metadata": {},
   "outputs": [],
   "source": [
    "static int division(int a, int b) {\n",
    "    return a/b;\n",
    "}\n",
    "\n",
    "int[] tab = {2, 1, 0, -1};\n",
    "\n",
    "try {\n",
    "    \n",
    "    for (int val : tab) {\n",
    "        int res = division(20,val);\n",
    "        System.out.println(res);\n",
    "    }\n",
    "    \n",
    "} catch(ArithmeticException e) {\n",
    "    System.out.println(\"Division par zéro\");\n",
    "}\n",
    "\n",
    "System.out.println(\"Done\");"
   ]
  },
  {
   "cell_type": "markdown",
   "id": "honey-protection",
   "metadata": {},
   "source": [
    "**Lecture flux entrée**"
   ]
  },
  {
   "cell_type": "code",
   "execution_count": 1,
   "id": "serious-gamma",
   "metadata": {},
   "outputs": [
    {
     "name": "stdout",
     "output_type": "stream",
     "text": [
      "Ma seule amour, ma joye et ma maistresse,\n",
      "Puisqu'il me fault loing de vous demorer,\n",
      "Je n'ay plus riens, à me reconforter,\n",
      "Qu'un souvenir pour retenir lyesse.\n",
      "\n",
      "En allegant, par Espoir, ma destresse,\n",
      "Me couvendra le temps ainsi passer,\n",
      "Ma seule amour, ma joye et ma maistresse,\n",
      "Puisqu'il me fault loing de vous demorer.\n",
      "\n",
      "Car mon las cueur, bien garny de tristesse,\n",
      "S'en est voulu avecques vous aler,\n",
      "Ne je ne puis jamais le recouvrer,\n",
      "Jusques verray vostre belle jeunesse,\n",
      "Ma seule amour, ma joye et ma maistresse.\n"
     ]
    }
   ],
   "source": [
    "// Version complète\n",
    "BufferedReader br = null;\n",
    "try {\n",
    "    br = new BufferedReader(new FileReader(\"path/file.txt\"));\n",
    "    while (br.ready()) { \n",
    "        System.out.println(br.readLine());\n",
    "    }\n",
    "} catch(FileNotFoundException e) { \n",
    "    System.out.println(e.getMessage()); \n",
    "} catch(IOException e) { \n",
    "    e.printStackTrace(); \n",
    "} finally {\n",
    "    if (br != null) {\n",
    "        try {\n",
    "            br.close();\n",
    "        } catch(IOException e) { \n",
    "            System.out.println(e.getMessage());\n",
    "        }\n",
    "    }\n",
    "}\n"
   ]
  },
  {
   "cell_type": "code",
   "execution_count": null,
   "id": "following-holocaust",
   "metadata": {},
   "outputs": [],
   "source": [
    "// Version raccourci\n",
    "try (BufferedReader br \n",
    "        = new BufferedReader(new FileReader(\"path/file.txt\"))) {\n",
    "    while (br.ready()) { \n",
    "        System.out.println(br.readLine());\n",
    "    }\n",
    "} catch(FileNotFoundException e) { \n",
    "    System.out.println(e.getMessage());\n",
    "} catch(IOException e) { \n",
    "    e.printStackTrace(); \n",
    "}\n"
   ]
  },
  {
   "cell_type": "markdown",
   "id": "overall-audience",
   "metadata": {},
   "source": [
    "## Exercise\n",
    "Écrire une méthode static `int askInt()` qui retourne une valeur entière saisie au clavier par l’utilisateur. Quand la valeur saisie n’est pas un entier, un message d’erreur doit être affiché puis on recommence la saisie."
   ]
  },
  {
   "cell_type": "code",
   "execution_count": null,
   "id": "informative-wesley",
   "metadata": {},
   "outputs": [],
   "source": [
    "int askInt() {\n",
    "   \n",
    "}"
   ]
  },
  {
   "cell_type": "code",
   "execution_count": null,
   "id": "pressing-termination",
   "metadata": {},
   "outputs": [],
   "source": [
    "int saisie = askInt();\n",
    "System.out.println(\"Utilisateur a saisi: \"+saisie);"
   ]
  }
 ],
 "metadata": {
  "kernelspec": {
   "display_name": "Java",
   "language": "java",
   "name": "java"
  },
  "language_info": {
   "codemirror_mode": "java",
   "file_extension": ".jshell",
   "mimetype": "text/x-java-source",
   "name": "Java",
   "pygments_lexer": "java",
   "version": "15.0.1+9-18"
  }
 },
 "nbformat": 4,
 "nbformat_minor": 5
}
