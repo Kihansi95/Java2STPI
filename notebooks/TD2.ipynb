{
 "cells": [
  {
   "cell_type": "code",
   "execution_count": 1,
   "id": "residential-algebra",
   "metadata": {},
   "outputs": [],
   "source": [
    "import java.lang.String;"
   ]
  },
  {
   "cell_type": "code",
   "execution_count": 64,
   "id": "expected-burton",
   "metadata": {},
   "outputs": [],
   "source": [
    "public class Personne {\n",
    "    \n",
    "    private static int cpt = 0;\n",
    "    private String nom;\n",
    "    private int age;\n",
    "    private int id;\n",
    "    \n",
    "    public Personne(String nom, int a) {\n",
    "        this.id = cpt;\n",
    "        this.nom = nom;\n",
    "        this.age = a;\n",
    "        cpt += 1;\n",
    "    }\n",
    "    \n",
    "    public Personne() {\n",
    "        this(\"Anonyme\", -1);\n",
    "    }\n",
    "    \n",
    "    public String toString() {\n",
    "        return \"[\" +id+ \"] La personne \" + nom + \" ayant \"+age +\" ans\";\n",
    "    }\n",
    "}"
   ]
  },
  {
   "cell_type": "code",
   "execution_count": 60,
   "id": "lonely-right",
   "metadata": {},
   "outputs": [],
   "source": [
    "public class Employe extends Personne {\n",
    "    \n",
    "    private int salaire;\n",
    "    \n",
    "    public Employe(String nom, int a, int s) {\n",
    "        super(nom, a);\n",
    "        this.salaire = s;\n",
    "    }\n",
    "    \n",
    "    public String toString() {\n",
    "        return super.toString() + \" est un(e) employé(e) avec salaire \"+salaire + \" €\";\n",
    "    }\n",
    "    \n",
    "    public int salaire() {\n",
    "        return salaire;\n",
    "    }\n",
    "}"
   ]
  },
  {
   "cell_type": "code",
   "execution_count": 65,
   "id": "equivalent-cancellation",
   "metadata": {},
   "outputs": [
    {
     "name": "stdout",
     "output_type": "stream",
     "text": [
      "[0] La personne Alexis ayant 20 ans\n",
      "[1] La personne Lucas ayant 21 ans\n",
      "[2] La personne Anonyme ayant -1 ans\n"
     ]
    }
   ],
   "source": [
    "Personne p1 = new Personne(\"Alexis\", 20);\n",
    "Personne p2 = new Personne(\"Lucas\", 21);\n",
    "Personne p3 = new Personne();\n",
    "System.out.println(p1);\n",
    "System.out.println(p2);\n",
    "System.out.println(p3);"
   ]
  },
  {
   "cell_type": "code",
   "execution_count": 49,
   "id": "skilled-exercise",
   "metadata": {},
   "outputs": [
    {
     "name": "stdout",
     "output_type": "stream",
     "text": [
      "La personne Alexis ayant 20 ans est un(e) employé(e) avec salaire 1000 €Alexis\n",
      "La personne Mike ayant 23 ans est un(e) employé(e) avec salaire 500 €Mike\n"
     ]
    }
   ],
   "source": [
    "Employe e1 = new Employe(\"Alexis\", 20, 1000);\n",
    "System.out.println(e1.toString());\n",
    "\n",
    "Personne e2 = new Employe(\"Mike\", 23, 500);\n",
    "System.out.println(e2.toString());"
   ]
  },
  {
   "cell_type": "code",
   "execution_count": 41,
   "id": "identified-singing",
   "metadata": {},
   "outputs": [
    {
     "data": {
      "text/plain": [
       "500"
      ]
     },
     "execution_count": 41,
     "metadata": {},
     "output_type": "execute_result"
    }
   ],
   "source": [
    "((Employe) e2).salaire()"
   ]
  },
  {
   "cell_type": "code",
   "execution_count": 43,
   "id": "organizational-boating",
   "metadata": {},
   "outputs": [
    {
     "data": {
      "text/plain": [
       "500"
      ]
     },
     "execution_count": 43,
     "metadata": {},
     "output_type": "execute_result"
    }
   ],
   "source": [
    "Employe tmp = ((Employe) e2);\n",
    "tmp.salaire()"
   ]
  },
  {
   "cell_type": "code",
   "execution_count": null,
   "id": "secure-munich",
   "metadata": {},
   "outputs": [],
   "source": []
  }
 ],
 "metadata": {
  "kernelspec": {
   "display_name": "Java",
   "language": "java",
   "name": "java"
  },
  "language_info": {
   "codemirror_mode": "java",
   "file_extension": ".jshell",
   "mimetype": "text/x-java-source",
   "name": "Java",
   "pygments_lexer": "java",
   "version": "15.0.1+9-18"
  }
 },
 "nbformat": 4,
 "nbformat_minor": 5
}
