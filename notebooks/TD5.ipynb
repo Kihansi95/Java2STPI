{
 "cells": [
  {
   "cell_type": "markdown",
   "id": "injured-marine",
   "metadata": {},
   "source": [
    "# Algorithmique et Programmation Orientée Objet en Java\n",
    "## Les collections Java \n",
    "## Notions de généricité"
   ]
  },
  {
   "cell_type": "markdown",
   "id": "brazilian-point",
   "metadata": {},
   "source": [
    "## Exercise\n",
    "Écrire la classe `Library` correspondant au diagramme de classes suivant"
   ]
  },
  {
   "cell_type": "markdown",
   "id": "narrative-equation",
   "metadata": {},
   "source": [
    "![image.png](data/TD5.1.png)"
   ]
  },
  {
   "cell_type": "code",
   "execution_count": null,
   "id": "unavailable-tribune",
   "metadata": {},
   "outputs": [],
   "source": [
    "public class Document {\n",
    "    private int barCode;\n",
    "    private String title;\n",
    "    private Set<String> authors;\n",
    "    private boolean available;\n",
    "    \n",
    "    public Document(int barcode, String title; List<String> authors) {\n",
    "        this.barcode = barcode; this.title = title; this.authors = authors;\n",
    "    }\n",
    "    \n",
    "    public Document(Document doc) {\n",
    "        this.barcode = doc.barcode; this.title = doc.title; this.authors = doc.authors; this.available = doc.available;\n",
    "    }\n",
    "    \n",
    "    public boolean isAvailable() { return available; }\n",
    "    public void setAvailable(boolean available) { this.available = available; }\n",
    "    public int getBarCode() { return barCode; }\n",
    "    public String getTitle() { return title; }\n",
    "    public Set<String> getAuthors() { return new Set<String>(authors); }\n",
    "    public String toString() { return this.title + \" - \" + this.authors[0]; }\n",
    "}\n",
    "\n",
    "public class Library {\n",
    "    // TODO\n",
    "}"
   ]
  },
  {
   "cell_type": "markdown",
   "id": "surface-engagement",
   "metadata": {},
   "source": [
    "Créer un comparateur qui permettra d’ordonner selon le 1er auteur (utilisé lors d’un tri)"
   ]
  },
  {
   "cell_type": "code",
   "execution_count": null,
   "id": "empirical-uncle",
   "metadata": {},
   "outputs": [],
   "source": [
    "public class AuthorComparator implements Comparator<Document> {\n",
    "    // TODO\n",
    "}\n"
   ]
  }
 ],
 "metadata": {
  "kernelspec": {
   "display_name": "Java",
   "language": "java",
   "name": "java"
  },
  "language_info": {
   "codemirror_mode": "java",
   "file_extension": ".jshell",
   "mimetype": "text/x-java-source",
   "name": "Java",
   "pygments_lexer": "java",
   "version": "15.0.1+9-18"
  }
 },
 "nbformat": 4,
 "nbformat_minor": 5
}
