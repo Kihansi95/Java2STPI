{
 "cells": [
  {
   "cell_type": "markdown",
   "id": "cheap-aaron",
   "metadata": {},
   "source": [
    "# Chapitre 8 : Diviser pour régler - Programmation dynamique"
   ]
  },
  {
   "cell_type": "markdown",
   "id": "cognitive-guard",
   "metadata": {},
   "source": [
    "## Excercice 1: Le tour du Hanoï"
   ]
  },
  {
   "cell_type": "code",
   "execution_count": 5,
   "id": "liked-surveillance",
   "metadata": {},
   "outputs": [
    {
     "name": "stdout",
     "output_type": "stream",
     "text": [
      "Tour 1: [5, 4, 3, 2, 1] | Tour 2: [] | Tour 3: []\n"
     ]
    }
   ],
   "source": [
    "import java.util.Stack;\n",
    "\n",
    "int n = 5;\n",
    "\n",
    "Stack<Integer> tour1 = new Stack<Integer>();\n",
    "Stack<Integer> tour2 = new Stack<Integer>();\n",
    "Stack<Integer> tour3 = new Stack<Integer>();\n",
    "for(int disque = n; disque > 0; disque--)\n",
    "    tour1.push(disque);\n",
    "\n",
    "void afficher() {\n",
    "    // afficher etat des tours\n",
    "    System.out.print(\"Tour 1: \"+ tour1 + \" | \");\n",
    "    System.out.print(\"Tour 2: \"+ tour2 + \" | \");\n",
    "    System.out.println(\"Tour 3: \" + tour3);\n",
    "}\n",
    "\n",
    "afficher();"
   ]
  },
  {
   "cell_type": "code",
   "execution_count": 6,
   "id": "august-friday",
   "metadata": {},
   "outputs": [
    {
     "name": "stdout",
     "output_type": "stream",
     "text": [
      "Tour 1: [5, 4, 3, 2, 1] | Tour 2: [] | Tour 3: []\n",
      "Tour 1: [5, 4, 3, 2] | Tour 2: [] | Tour 3: [1]\n",
      "Tour 1: [5, 4, 3] | Tour 2: [2] | Tour 3: [1]\n",
      "Tour 1: [5, 4, 3] | Tour 2: [2, 1] | Tour 3: []\n",
      "Tour 1: [5, 4] | Tour 2: [2, 1] | Tour 3: [3]\n",
      "Tour 1: [5, 4, 1] | Tour 2: [2] | Tour 3: [3]\n",
      "Tour 1: [5, 4, 1] | Tour 2: [] | Tour 3: [3, 2]\n",
      "Tour 1: [5, 4] | Tour 2: [] | Tour 3: [3, 2, 1]\n",
      "Tour 1: [5] | Tour 2: [4] | Tour 3: [3, 2, 1]\n",
      "Tour 1: [5] | Tour 2: [4, 1] | Tour 3: [3, 2]\n",
      "Tour 1: [5, 2] | Tour 2: [4, 1] | Tour 3: [3]\n",
      "Tour 1: [5, 2, 1] | Tour 2: [4] | Tour 3: [3]\n",
      "Tour 1: [5, 2, 1] | Tour 2: [4, 3] | Tour 3: []\n",
      "Tour 1: [5, 2] | Tour 2: [4, 3] | Tour 3: [1]\n",
      "Tour 1: [5] | Tour 2: [4, 3, 2] | Tour 3: [1]\n",
      "Tour 1: [5] | Tour 2: [4, 3, 2, 1] | Tour 3: []\n",
      "Tour 1: [] | Tour 2: [4, 3, 2, 1] | Tour 3: [5]\n",
      "Tour 1: [1] | Tour 2: [4, 3, 2] | Tour 3: [5]\n",
      "Tour 1: [1] | Tour 2: [4, 3] | Tour 3: [5, 2]\n",
      "Tour 1: [] | Tour 2: [4, 3] | Tour 3: [5, 2, 1]\n",
      "Tour 1: [3] | Tour 2: [4] | Tour 3: [5, 2, 1]\n",
      "Tour 1: [3] | Tour 2: [4, 1] | Tour 3: [5, 2]\n",
      "Tour 1: [3, 2] | Tour 2: [4, 1] | Tour 3: [5]\n",
      "Tour 1: [3, 2, 1] | Tour 2: [4] | Tour 3: [5]\n",
      "Tour 1: [3, 2, 1] | Tour 2: [] | Tour 3: [5, 4]\n",
      "Tour 1: [3, 2] | Tour 2: [] | Tour 3: [5, 4, 1]\n",
      "Tour 1: [3] | Tour 2: [2] | Tour 3: [5, 4, 1]\n",
      "Tour 1: [3] | Tour 2: [2, 1] | Tour 3: [5, 4]\n",
      "Tour 1: [] | Tour 2: [2, 1] | Tour 3: [5, 4, 3]\n",
      "Tour 1: [1] | Tour 2: [2] | Tour 3: [5, 4, 3]\n",
      "Tour 1: [1] | Tour 2: [] | Tour 3: [5, 4, 3, 2]\n",
      "Tour 1: [] | Tour 2: [] | Tour 3: [5, 4, 3, 2, 1]\n"
     ]
    }
   ],
   "source": [
    "void deplacement(int n, Stack<Integer> src, Stack<Integer> tmp, Stack<Integer> dest) {\n",
    "    if(n > 0) {\n",
    "        deplacement(n-1, src, dest, tmp);\n",
    "        dest.push(src.pop());\n",
    "        deplacement(n-1, tmp, src, dest);\n",
    "    }  \n",
    "}\n",
    "\n",
    "deplacement(n, tour1, tour2, tour3);\n",
    "afficher();"
   ]
  },
  {
   "cell_type": "markdown",
   "id": "polyphonic-count",
   "metadata": {},
   "source": [
    "## Exercice 2: La suite Fibonacci (diviser pour régner)"
   ]
  },
  {
   "cell_type": "code",
   "execution_count": 10,
   "id": "played-statistics",
   "metadata": {},
   "outputs": [],
   "source": [
    "public int fibo1(int n) {\n",
    "    \n",
    "    if(n == 0) {\n",
    "        return 0;\n",
    "    }\n",
    "        \n",
    "    \n",
    "    if(n == 1) {\n",
    "        return 1;\n",
    "    }\n",
    "        \n",
    "    int res = fibo1(n-1) + fibo1(n-2);\n",
    "    return res;\n",
    "}"
   ]
  },
  {
   "cell_type": "code",
   "execution_count": 18,
   "id": "latin-interval",
   "metadata": {},
   "outputs": [
    {
     "name": "stdout",
     "output_type": "stream",
     "text": [
      "8\n",
      "Expected: 8\n"
     ]
    }
   ],
   "source": [
    "System.out.println(fibo1(6));\n",
    "System.out.println(\"Expected: 8\");"
   ]
  },
  {
   "cell_type": "markdown",
   "id": "special-douglas",
   "metadata": {},
   "source": [
    "## Exercice 3: La suite Fibonacci (programmation dynamique)"
   ]
  },
  {
   "cell_type": "code",
   "execution_count": 29,
   "id": "macro-least",
   "metadata": {},
   "outputs": [],
   "source": [
    "int[] resultats = new int[100];\n",
    "for(int i = 0; i < 100; i++)\n",
    "    resultats[i] = -1;\n",
    "\n",
    "int fibo2(int n) {\n",
    "    \n",
    "    if(n == 0) {\n",
    "        resultats[n] = 0;\n",
    "        return 0;\n",
    "    }\n",
    "        \n",
    "    if(n == 1) {\n",
    "        resultats[n] = 1;\n",
    "        return 1;\n",
    "    }\n",
    "    \n",
    "    if(resultats[n-1] < 0)\n",
    "        fibo2(n-1);\n",
    "    \n",
    "    if(resultats[n-2] < 0)\n",
    "        fibo2(n-2);\n",
    "    \n",
    "    resultats[n] = resultats[n-1] + resultats[n-2];\n",
    "    return resultats[n];\n",
    "}"
   ]
  },
  {
   "cell_type": "code",
   "execution_count": 30,
   "id": "julian-lesbian",
   "metadata": {},
   "outputs": [
    {
     "name": "stdout",
     "output_type": "stream",
     "text": [
      "8\n",
      "Expected: 8\n"
     ]
    }
   ],
   "source": [
    "System.out.println(fibo2(6));\n",
    "System.out.println(\"Expected: 8\");"
   ]
  },
  {
   "cell_type": "markdown",
   "id": "intense-monaco",
   "metadata": {},
   "source": [
    "Comparons le temps de calcul"
   ]
  },
  {
   "cell_type": "code",
   "execution_count": null,
   "id": "closed-prefix",
   "metadata": {},
   "outputs": [],
   "source": [
    "System.out.println(\"Programmation dynamique: \" + fibo2(6));\n",
    "System.out.println(\"Diviser pour régner: \" + fibo1(6));"
   ]
  }
 ],
 "metadata": {
  "kernelspec": {
   "display_name": "Java",
   "language": "java",
   "name": "java"
  },
  "language_info": {
   "codemirror_mode": "java",
   "file_extension": ".jshell",
   "mimetype": "text/x-java-source",
   "name": "Java",
   "pygments_lexer": "java",
   "version": "15.0.1+9-18"
  }
 },
 "nbformat": 4,
 "nbformat_minor": 5
}
