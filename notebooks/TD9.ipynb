{
 "cells": [
  {
   "cell_type": "markdown",
   "id": "ultimate-float",
   "metadata": {},
   "source": [
    "# Chapitre 9 : Graphe"
   ]
  },
  {
   "cell_type": "markdown",
   "id": "modern-florist",
   "metadata": {},
   "source": [
    "### Exercise 2: Code the `addEdge` method"
   ]
  },
  {
   "cell_type": "code",
   "execution_count": null,
   "id": "respected-pursuit",
   "metadata": {},
   "outputs": [],
   "source": [
    "public class Graph {\n",
    "    private final int nV;\n",
    "    private int nE;\n",
    "    private List<Integer>[] adj;\n",
    "    \n",
    "    @SuppressWarnings(\"unchecked\")\n",
    "    public Graph(int nV) {\n",
    "        if (nV < 0) throw new IllegalArgumentException(\"Number of vertices must be nonnegative\");\n",
    "        this.nV = nV;\n",
    "        this.nE = 0;\n",
    "        adj = new ArrayList[nV];\n",
    "        for (int v = 0; v < nV; v++) {\n",
    "            adj[v] = new ArrayList<Integer>();\n",
    "        }\n",
    "    }\n",
    "    public int numberOfVertices() { return nV; }\n",
    "\n",
    "    public int numberOfEdges() { return nE; }\n",
    "    \n",
    "    private void validateVertex(int v) {\n",
    "        if (v < 0 || v >= nV) \n",
    "            throw new IndexOutOfBoundsException(\"vertex \" + v + \" is not between 0 and \" + (nV-1));\n",
    "    }\n",
    "    \n",
    "    public void addEdge(int v, int w) {\n",
    "        // Exercice 2\n",
    "        /* TODO */\n",
    "    }\n",
    "    \n",
    "    public Iterable<Integer> adjacency(int v) {\n",
    "        validateVertex(v);\n",
    "        return adj[v];\n",
    "    }\n",
    "}"
   ]
  },
  {
   "cell_type": "markdown",
   "id": "collective-findings",
   "metadata": {},
   "source": [
    "You can now test your implemented graph here"
   ]
  },
  {
   "cell_type": "code",
   "execution_count": null,
   "id": "automatic-point",
   "metadata": {},
   "outputs": [],
   "source": [
    "Graph laby = new Graph(3);"
   ]
  },
  {
   "cell_type": "markdown",
   "id": "mysterious-clarity",
   "metadata": {},
   "source": [
    "### Exercise 3: Use the `BreadthFirstSearch`class to print:\n",
    "* If we can reach the exit: <span style=\"color:red\">We need N steps to reach the exit</span>, where N is the minimum number of steps needed.\n",
    "* If we cannot reach the exit: <span style=\"color:red\">No hope</span>"
   ]
  },
  {
   "cell_type": "code",
   "execution_count": null,
   "id": "scheduled-origin",
   "metadata": {},
   "outputs": [],
   "source": [
    "public class BreadthFirstSearch {\n",
    "\n",
    "    private static final int INFINITY = Integer.MAX_VALUE;\n",
    "    private boolean[] marked; // marked[v] = is there an s-v path\n",
    "    private int[] distTo;     // distTo[v] = number of edges on shortest s-v path\n",
    "                              \n",
    "    /**\n",
    "     * Computes the shortest path between the source vertex s\n",
    "     * and every other vertex in the graph\n",
    "     */\n",
    "    public BreadthFirstSearch(Graph G, int s) {\n",
    "        marked = new boolean[G.numberOfVertices()];\n",
    "        distTo = new int[G.numberOfVertices()];\n",
    "        bfs(G, s);\n",
    "    }\n",
    "    \n",
    "    public boolean hasPathTo(int v) { return marked[v]; }\n",
    "    \n",
    "    public int distanceTo(int v) { return distTo[v]; }\n",
    "    \n",
    "    private void bfs(Graph G, int s) {\n",
    "        Deque<Integer> queue = new ArrayDeque<Integer>();\n",
    "        \n",
    "        for (int v = 0; v < G.numberOfVertices(); v++)\n",
    "            distTo[v] = INFINITY;\n",
    "        \n",
    "        distTo[s] = 0;\n",
    "        marked[s] = true;\n",
    "        queue.addLast(s);\n",
    "        \n",
    "        while (!queue.isEmpty()) {\n",
    "            int v = queue.removeFirst();\n",
    "            for (int w : G.adjacency(v)) {\n",
    "                if (!marked[w]) {\n",
    "                    distTo[w] = distTo[v] + 1;\n",
    "                    marked[w] = true;\n",
    "                    queue.addLast(w);\n",
    "                }\n",
    "            }\n",
    "        }\n",
    "    }\n",
    "    \n",
    "    // Exercise 4:\n",
    "    // private int[] edgeTo; // edgeTo[v] = previous edge on shortest s-v path\n",
    "    public void printPathTo(int destination) {\n",
    "        // Exercice 4\n",
    "        /* TODO */\n",
    "    }\n",
    "}\n",
    "\n",
    "int start = 0 ;\n",
    "int exit = 2 ;"
   ]
  },
  {
   "cell_type": "markdown",
   "id": "settled-helmet",
   "metadata": {},
   "source": [
    "Given the following class of `DepthFirstSearch`"
   ]
  },
  {
   "cell_type": "code",
   "execution_count": null,
   "id": "married-domestic",
   "metadata": {},
   "outputs": [],
   "source": [
    "public class DepthFirstSearch {\n",
    "    private boolean[] marked; // marked[v] = is there an s-v path?\n",
    "    private int count; // number of vertices connected to s\n",
    "    \n",
    "    // Computes the vertices in graph G that are connected\n",
    "    // to the source vertex s\n",
    "    public DepthFirstSearch(Graph G, int s) {\n",
    "        marked = new boolean[G.numberOfVertices()];\n",
    "        dfs(G, s);\n",
    "    }\n",
    "    \n",
    "    // depth first search from v\n",
    "    private void dfs(Graph G, int v) {\n",
    "        count++;\n",
    "        marked[v] = true;\n",
    "        for (int w : G.adjacency(v)) {\n",
    "            if (!marked[w]) {\n",
    "                dfs(G, w);\n",
    "            }\n",
    "        }\n",
    "    }\n",
    "    \n",
    "    // Is there a path between the source vertex s and vertex v?\n",
    "    public boolean hasPathTo(int v) {\n",
    "        return marked[v];\n",
    "    }\n",
    "    \n",
    "    // Returns the number of vertices connected to the source vertex s\n",
    "    public int count() {\n",
    "        return count;\n",
    "    }\n",
    "}"
   ]
  },
  {
   "cell_type": "markdown",
   "id": "figured-english",
   "metadata": {},
   "source": [
    "### Exercise 5: Code the **TODO** part of the constructor using the `dfs` method to count the number of connected components of the graph."
   ]
  },
  {
   "cell_type": "code",
   "execution_count": null,
   "id": "offensive-breakdown",
   "metadata": {},
   "outputs": [],
   "source": [
    "public class ConnectedComponents {\n",
    "    \n",
    "    private boolean[] marked; // marked[v] = has vertex v been marked?\n",
    "    private int count; // number of connected components\n",
    "    \n",
    "    // Computes the number of connected components\n",
    "    public ConnectedComponents(Graph g) {\n",
    "        marked = new boolean[g.numberOfVertices()];\n",
    "        /* TO DO */\n",
    "    }\n",
    "    \n",
    "    // depth-first search\n",
    "    private void dfs(Graph g, int v) {\n",
    "        marked[v] = true;\n",
    "        for (int w : g.adjacency(v)) {\n",
    "            if (!marked[w]) {\n",
    "                dfs(g, w);\n",
    "            }\n",
    "        }\n",
    "    }\n",
    "    \n",
    "    public int count() { return count; }\n",
    "}"
   ]
  },
  {
   "cell_type": "code",
   "execution_count": null,
   "id": "utility-church",
   "metadata": {},
   "outputs": [],
   "source": [
    "Graph g = new Graph(6);\n",
    "g.addEdge(0, 1);\n",
    "g.addEdge(0, 2);\n",
    "g.addEdge(1, 2);\n",
    "g.addEdge(3, 4);\n",
    "g.addEdge(5, 5);\n",
    "System.out.println(g);\n",
    "ConnectedComponents cc = new ConnectedComponents(g);\n",
    "System.out.println(cc.count());"
   ]
  },
  {
   "cell_type": "markdown",
   "id": "beneficial-adelaide",
   "metadata": {},
   "source": [
    "Given the following class `DiGraph`"
   ]
  },
  {
   "cell_type": "code",
   "execution_count": null,
   "id": "rational-meaning",
   "metadata": {},
   "outputs": [],
   "source": [
    "public class Digraph extends Graph {\n",
    "\n",
    "    public void addEdge(int v, int w) {\n",
    "        validateVertex(v);\n",
    "        validateVertex(w);\n",
    "        adj[v].add(w); // The difference\n",
    "        nE++;\n",
    "    }\n",
    "}"
   ]
  },
  {
   "cell_type": "markdown",
   "id": "pregnant-newport",
   "metadata": {},
   "source": [
    "### Exercise 6: Complete the TO DO parts of the TopologicalOrder class:"
   ]
  },
  {
   "cell_type": "code",
   "execution_count": null,
   "id": "judicial-gravity",
   "metadata": {},
   "outputs": [],
   "source": [
    "public class TopologicalOrder {\n",
    "    \n",
    "    private boolean[] marked; // marked[v] = has vertex v been marked?\n",
    "    private Deque<Integer> stack; // topological order\n",
    "    \n",
    "    public TopologicalOrder(Digraph G) {\n",
    "        stack = new ArrayDeque<Integer>();\n",
    "        marked = new boolean[G.numberOfVertices()];\n",
    "        /* TO DO */\n",
    "    }\n",
    "    \n",
    "    // depth-first search\n",
    "    private void dfs(Digraph G, int v) {\n",
    "        marked[v] = true;\n",
    "        for (int w : G.adjacency(v)) {\n",
    "            if (!marked[w]) {\n",
    "                dfs(G, w);\n",
    "            }\n",
    "        }\n",
    "    /* TO DO */\n",
    "    }\n",
    "    \n",
    "    public Iterable<Integer> order() { return stack; }\n",
    "}"
   ]
  },
  {
   "cell_type": "code",
   "execution_count": null,
   "id": "assumed-navigator",
   "metadata": {},
   "outputs": [],
   "source": [
    "Digraph G = new Digraph(6);\n",
    "G.addEdge(0, 1);\n",
    "G.addEdge(0, 2);\n",
    "G.addEdge(1, 2);\n",
    "G.addEdge(3, 1);\n",
    "G.addEdge(3, 4);\n",
    "G.addEdge(4, 5);\n",
    "TopologicalOrder order = new TopologicalOrder(G);\n",
    "System.out.println(G);\n",
    "System.out.println(order);"
   ]
  },
  {
   "cell_type": "markdown",
   "id": "behind-diary",
   "metadata": {},
   "source": [
    "### Exercice 7 : How to count the number of paths between two given vertices in a directed acyclic graph?"
   ]
  },
  {
   "cell_type": "code",
   "execution_count": null,
   "id": "private-empire",
   "metadata": {},
   "outputs": [],
   "source": [
    "public class NumberOfPaths {\n",
    "    int[] count;\n",
    "    int nbPaths;\n",
    "    \n",
    "    public NumberOfPaths(Digraph G, int first, int second) {\n",
    "        /* TODO */\n",
    "    }\n",
    "    \n",
    "    public int numberOfPaths() {\n",
    "        return nbPaths;\n",
    "    }\n",
    "}"
   ]
  },
  {
   "cell_type": "code",
   "execution_count": null,
   "id": "expired-liverpool",
   "metadata": {},
   "outputs": [],
   "source": [
    "Digraph G = new Digraph(8);\n",
    "G.addEdge(0, 2);\n",
    "G.addEdge(1, 2);\n",
    "G.addEdge(2, 3);\n",
    "G.addEdge(2, 3);\n",
    "G.addEdge(2, 5);        \n",
    "G.addEdge(3, 4);\n",
    "G.addEdge(3, 5);\n",
    "G.addEdge(5, 4);\n",
    "G.addEdge(4, 6);\n",
    "G.addEdge(5, 6);\n",
    "G.addEdge(5, 7);        \n",
    "G.addEdge(6, 7);\n",
    "System.out.println(G);\n",
    "NumberOfPaths p = new NumberOfPaths(G, 2, 7);\n",
    "System.out.println(\"number of paths between 2 and 7: \" + p.numberOfPaths());"
   ]
  }
 ],
 "metadata": {
  "kernelspec": {
   "display_name": "Java",
   "language": "java",
   "name": "java"
  },
  "language_info": {
   "codemirror_mode": "java",
   "file_extension": ".jshell",
   "mimetype": "text/x-java-source",
   "name": "Java",
   "pygments_lexer": "java",
   "version": "15.0.1+9-18"
  }
 },
 "nbformat": 4,
 "nbformat_minor": 5
}
