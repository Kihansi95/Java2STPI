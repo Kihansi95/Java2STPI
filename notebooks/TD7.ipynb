{
 "cells": [
  {
   "cell_type": "markdown",
   "id": "reserved-wilderness",
   "metadata": {},
   "source": [
    "# Chapitre 7 : Complexité et Algorithme de tri"
   ]
  },
  {
   "cell_type": "markdown",
   "id": "heard-consciousness",
   "metadata": {},
   "source": [
    "## Excercice 1: Le tri d'une collection Java\n",
    "\n",
    "![title](TD7.png)"
   ]
  },
  {
   "cell_type": "code",
   "execution_count": 1,
   "id": "spoken-deposit",
   "metadata": {},
   "outputs": [
    {
     "name": "stdout",
     "output_type": "stream",
     "text": [
      "{nom:Jack, age:30}\n"
     ]
    }
   ],
   "source": [
    "class Personne {\n",
    "    private int age;\n",
    "    private String nom;\n",
    "    \n",
    "    public Personne(String nom, int age) {this.nom = nom; this.age = age;}\n",
    "    public Personne(Personne p) { this.nom = p.nom; this.age = p.age; }\n",
    "    public int age() { return this.age; }\n",
    "    public String nom() { return this.nom; }\n",
    "    public String toString() { return \"{nom:\"+nom+\", age:\"+age+\"}\"; }\n",
    "}\n",
    "\n",
    "// Testing la class\n",
    "Personne p = new Personne(\"Jack\", 30);\n",
    "System.out.println(p);"
   ]
  },
  {
   "cell_type": "markdown",
   "id": "intended-trouble",
   "metadata": {},
   "source": [
    "Etant donné la liste des personnes suivantes:"
   ]
  },
  {
   "cell_type": "code",
   "execution_count": 2,
   "id": "organized-toronto",
   "metadata": {},
   "outputs": [
    {
     "name": "stdout",
     "output_type": "stream",
     "text": [
      "[{nom:Martin, age:20}, {nom:Bernard, age:19}, {nom:Thomas, age:23}, {nom:Petit, age:1}, {nom:Robert, age:203}]\n"
     ]
    }
   ],
   "source": [
    "import java.util.List;\n",
    "import java.util.ArrayList;\n",
    "\n",
    "List<Personne> liste = new ArrayList<Personne>();\n",
    "liste.add(new Personne(\"Martin\", 20));\n",
    "liste.add(new Personne(\"Bernard\", 19));\n",
    "liste.add(new Personne(\"Thomas\", 23));\n",
    "liste.add(new Personne(\"Petit\", 1));\n",
    "liste.add(new Personne(\"Robert\", 203));\n",
    "System.out.println(liste);"
   ]
  },
  {
   "cell_type": "markdown",
   "id": "opponent-training",
   "metadata": {},
   "source": [
    "Implémentez le comparateur"
   ]
  },
  {
   "cell_type": "code",
   "execution_count": 10,
   "id": "permanent-leone",
   "metadata": {},
   "outputs": [],
   "source": [
    "// TODO\n",
    "import java.util.Comparator;\n",
    "\n",
    "public class PersonneComparator implements Comparator<Personne> {\n",
    "    \n",
    "    public int compare(Personne p1, Personne p2) {\n",
    "        return p1.age() - p2.age();\n",
    "    }\n",
    "}"
   ]
  },
  {
   "cell_type": "markdown",
   "id": "sudden-watershed",
   "metadata": {},
   "source": [
    "Maintenant trions la liste"
   ]
  },
  {
   "cell_type": "code",
   "execution_count": 11,
   "id": "combined-kenya",
   "metadata": {},
   "outputs": [
    {
     "name": "stdout",
     "output_type": "stream",
     "text": [
      "[{nom:Petit, age:1}, {nom:Bernard, age:19}, {nom:Martin, age:20}, {nom:Thomas, age:23}, {nom:Robert, age:203}]\n"
     ]
    }
   ],
   "source": [
    "// TODO\n",
    "PersonneComparator comparator = new PersonneComparator();\n",
    "Collections.sort(liste, comparator);\n",
    "System.out.println(liste);"
   ]
  },
  {
   "cell_type": "code",
   "execution_count": null,
   "id": "different-diameter",
   "metadata": {},
   "outputs": [],
   "source": []
  },
  {
   "cell_type": "code",
   "execution_count": 12,
   "id": "forbidden-possession",
   "metadata": {},
   "outputs": [],
   "source": [
    "public class ReversePersonneComparator implements Comparator<Personne> {\n",
    "    \n",
    "    public int compare(Personne p1, Personne p2) {\n",
    "        return p2.age() - p1.age();\n",
    "    }\n",
    "}"
   ]
  },
  {
   "cell_type": "code",
   "execution_count": 13,
   "id": "floral-trading",
   "metadata": {},
   "outputs": [
    {
     "name": "stdout",
     "output_type": "stream",
     "text": [
      "[{nom:Robert, age:203}, {nom:Thomas, age:23}, {nom:Martin, age:20}, {nom:Bernard, age:19}, {nom:Petit, age:1}]\n"
     ]
    }
   ],
   "source": [
    "ReversePersonneComparator comparator = new ReversePersonneComparator();\n",
    "Collections.sort(liste, comparator);\n",
    "System.out.println(liste);"
   ]
  },
  {
   "cell_type": "code",
   "execution_count": null,
   "id": "formal-crisis",
   "metadata": {},
   "outputs": [],
   "source": []
  },
  {
   "cell_type": "code",
   "execution_count": 20,
   "id": "valued-trouble",
   "metadata": {},
   "outputs": [],
   "source": [
    "public class NomPersonneComparator implements Comparator<Personne> {\n",
    "    \n",
    "    public int compare(Personne p1, Personne p2) {\n",
    "        return p1.nom().compareTo(p2.nom());\n",
    "    }\n",
    "}"
   ]
  },
  {
   "cell_type": "code",
   "execution_count": 21,
   "id": "bizarre-complex",
   "metadata": {},
   "outputs": [
    {
     "name": "stdout",
     "output_type": "stream",
     "text": [
      "[{nom:Bernard, age:19}, {nom:Martin, age:20}, {nom:Petit, age:1}, {nom:Robert, age:203}, {nom:Thomas, age:23}]\n"
     ]
    }
   ],
   "source": [
    "NomPersonneComparator comparator = new NomPersonneComparator();\n",
    "Collections.sort(liste, comparator);\n",
    "System.out.println(liste);"
   ]
  },
  {
   "cell_type": "code",
   "execution_count": null,
   "id": "fitting-hotel",
   "metadata": {},
   "outputs": [],
   "source": []
  },
  {
   "cell_type": "code",
   "execution_count": null,
   "id": "exterior-merchant",
   "metadata": {},
   "outputs": [],
   "source": []
  },
  {
   "cell_type": "code",
   "execution_count": 19,
   "id": "educated-grill",
   "metadata": {},
   "outputs": [
    {
     "data": {
      "text/plain": [
       "-2"
      ]
     },
     "execution_count": 19,
     "metadata": {},
     "output_type": "execute_result"
    }
   ],
   "source": [
    "String s1 = new String(\"a\");\n",
    "String s2 = new String(\"c\");\n",
    "\n",
    "s1.compareTo(s2);"
   ]
  },
  {
   "cell_type": "code",
   "execution_count": null,
   "id": "structural-african",
   "metadata": {},
   "outputs": [],
   "source": []
  }
 ],
 "metadata": {
  "kernelspec": {
   "display_name": "Java",
   "language": "java",
   "name": "java"
  },
  "language_info": {
   "codemirror_mode": "java",
   "file_extension": ".jshell",
   "mimetype": "text/x-java-source",
   "name": "Java",
   "pygments_lexer": "java",
   "version": "15.0.1+9-18"
  }
 },
 "nbformat": 4,
 "nbformat_minor": 5
}
