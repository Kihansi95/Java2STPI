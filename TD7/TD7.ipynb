{
 "cells": [
  {
   "cell_type": "markdown",
   "id": "curious-suspect",
   "metadata": {},
   "source": [
    "# Chapitre 7 : Complexité et Algorithme de tri"
   ]
  },
  {
   "cell_type": "markdown",
   "id": "surprised-schedule",
   "metadata": {},
   "source": [
    "## Excercice 1: Le tri d'une collection Java\n",
    "\n",
    "![title](TD7.png)"
   ]
  },
  {
   "cell_type": "code",
   "execution_count": null,
   "id": "scheduled-association",
   "metadata": {},
   "outputs": [],
   "source": [
    "class Personne {\n",
    "    private int age;\n",
    "    private String nom;\n",
    "    \n",
    "    public Personne(String nom, int age) {this.nom = nom; this.age = age;}\n",
    "    public Personne(Personne p) { this.nom = p.nom; this.age = p.age; }\n",
    "    public int age() { return this.age; }\n",
    "    public String nom() { return this.nom; }\n",
    "    public String toString() { return \"{nom:\"+nom+\", age:\"+age+\"}\"; }\n",
    "}\n",
    "\n",
    "// Testing la class\n",
    "Personne p = new Personne(\"Jack\", 30);\n",
    "System.out.println(p);"
   ]
  },
  {
   "cell_type": "markdown",
   "id": "traditional-scroll",
   "metadata": {},
   "source": [
    "Etant donné la liste des personnes suivantes:"
   ]
  },
  {
   "cell_type": "code",
   "execution_count": null,
   "id": "iraqi-omega",
   "metadata": {},
   "outputs": [],
   "source": [
    "import java.util.List;\n",
    "import java.util.ArrayList;\n",
    "\n",
    "List<Personne> liste = new ArrayList<Personne>();\n",
    "liste.add(new Personne(\"Martin\", 20));\n",
    "liste.add(new Personne(\"Bernard\", 19));\n",
    "liste.add(new Personne(\"Thomas\", 23));\n",
    "liste.add(new Personne(\"Petit\", 1));\n",
    "liste.add(new Personne(\"Robert\", 203));\n",
    "System.out.println(liste);"
   ]
  },
  {
   "cell_type": "markdown",
   "id": "known-baker",
   "metadata": {},
   "source": [
    "Implémentez le comparateur"
   ]
  },
  {
   "cell_type": "code",
   "execution_count": null,
   "id": "furnished-collection",
   "metadata": {},
   "outputs": [],
   "source": [
    "// TODO"
   ]
  },
  {
   "cell_type": "markdown",
   "id": "relative-grammar",
   "metadata": {},
   "source": [
    "Maintenant trions la liste"
   ]
  },
  {
   "cell_type": "code",
   "execution_count": null,
   "id": "binary-holocaust",
   "metadata": {},
   "outputs": [],
   "source": [
    "// TODO"
   ]
  }
 ],
 "metadata": {
  "kernelspec": {
   "display_name": "Java",
   "language": "java",
   "name": "java"
  },
  "language_info": {
   "codemirror_mode": "java",
   "file_extension": ".jshell",
   "mimetype": "text/x-java-source",
   "name": "Java",
   "pygments_lexer": "java",
   "version": "15.0.1+9-18"
  }
 },
 "nbformat": 4,
 "nbformat_minor": 5
}
