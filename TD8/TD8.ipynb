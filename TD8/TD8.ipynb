{
 "cells": [
  {
   "cell_type": "markdown",
   "id": "committed-maryland",
   "metadata": {},
   "source": [
    "# Chapitre 8 : Diviser pour régler - Programmation dynamique"
   ]
  },
  {
   "cell_type": "markdown",
   "id": "breeding-interference",
   "metadata": {},
   "source": [
    "## Excercice 1: Le tour du Hanoï"
   ]
  },
  {
   "cell_type": "code",
   "execution_count": 24,
   "id": "drawn-fundamental",
   "metadata": {},
   "outputs": [
    {
     "name": "stdout",
     "output_type": "stream",
     "text": [
      "Tour 1: [5, 4, 3, 2, 1] | Tour 2: [] | Tour 3: []\n"
     ]
    }
   ],
   "source": [
    "import java.util.Stack;\n",
    "\n",
    "int n = 5;\n",
    "\n",
    "Stack<Integer> tour1 = new Stack<Integer>();\n",
    "Stack<Integer> tour2 = new Stack<Integer>();\n",
    "Stack<Integer> tour3 = new Stack<Integer>();\n",
    "for(int disque = n; disque > 0; disque--)\n",
    "    tour1.push(disque);\n",
    "\n",
    "void afficher() {\n",
    "    // afficher etat des tours\n",
    "    System.out.print(\"Tour 1: \"+ tour1 + \" | \");\n",
    "    System.out.print(\"Tour 2: \"+ tour2 + \" | \");\n",
    "    System.out.println(\"Tour 3: \" + tour3);\n",
    "}\n",
    "\n",
    "afficher();"
   ]
  },
  {
   "cell_type": "code",
   "execution_count": null,
   "id": "biblical-deficit",
   "metadata": {},
   "outputs": [],
   "source": [
    "void deplacement(int n, Stack<Integer> src, Stack<Integer> tmp, Stack<Integer> dest) {\n",
    "    // TODO\n",
    "}\n",
    "\n",
    "deplacement(n, tour1, tour2, tour3);\n",
    "afficher();"
   ]
  },
  {
   "cell_type": "markdown",
   "id": "dedicated-testing",
   "metadata": {},
   "source": [
    "## Exercice 2: La suite Fibonacci (diviser pour régner)"
   ]
  },
  {
   "cell_type": "code",
   "execution_count": null,
   "id": "joint-rolling",
   "metadata": {},
   "outputs": [],
   "source": [
    "int fibo1(int n) {\n",
    "    // TODO\n",
    "    return 0;\n",
    "}"
   ]
  },
  {
   "cell_type": "code",
   "execution_count": null,
   "id": "spoken-basics",
   "metadata": {},
   "outputs": [],
   "source": [
    "System.out.println(fibo1(6));\n",
    "System.out.println(\"Expected: 8\");"
   ]
  },
  {
   "cell_type": "markdown",
   "id": "sunset-chemical",
   "metadata": {},
   "source": [
    "## Exercice 3: La suite Fibonacci (programmation dynamique)"
   ]
  },
  {
   "cell_type": "code",
   "execution_count": null,
   "id": "buried-istanbul",
   "metadata": {},
   "outputs": [],
   "source": [
    "int fibo2(int n) {\n",
    "    return 0;\n",
    "}"
   ]
  },
  {
   "cell_type": "code",
   "execution_count": null,
   "id": "lonely-wealth",
   "metadata": {},
   "outputs": [],
   "source": [
    "System.out.println(fibo2(6));\n",
    "System.out.println(\"Expected: 8\");"
   ]
  },
  {
   "cell_type": "markdown",
   "id": "worldwide-boost",
   "metadata": {},
   "source": [
    "Comparons le temps de calcul"
   ]
  },
  {
   "cell_type": "code",
   "execution_count": null,
   "id": "formal-trace",
   "metadata": {},
   "outputs": [],
   "source": [
    "System.out.println(\"Programmation dynamique: \" + fibo2(6));\n",
    "System.out.println(\"Diviser pour régner: \" + fibo1(6));"
   ]
  }
 ],
 "metadata": {
  "kernelspec": {
   "display_name": "Java",
   "language": "java",
   "name": "java"
  },
  "language_info": {
   "codemirror_mode": "java",
   "file_extension": ".jshell",
   "mimetype": "text/x-java-source",
   "name": "Java",
   "pygments_lexer": "java",
   "version": "15.0.1+9-18"
  }
 },
 "nbformat": 4,
 "nbformat_minor": 5
}
