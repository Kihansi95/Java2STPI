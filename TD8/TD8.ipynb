{
 "cells": [
  {
   "cell_type": "markdown",
   "id": "animated-shift",
   "metadata": {},
   "source": [
    "# Chapitre 8 : Diviser pour régler - Programmation dynamique"
   ]
  },
  {
   "cell_type": "markdown",
   "id": "loose-wagner",
   "metadata": {},
   "source": [
    "## Exercice 2: La suite Fibonacci (diviser pour régner)"
   ]
  },
  {
   "cell_type": "code",
   "execution_count": null,
   "id": "subject-democracy",
   "metadata": {},
   "outputs": [],
   "source": [
    "int fibo1(int n) {\n",
    "    // TODO\n",
    "    return 0;\n",
    "}"
   ]
  },
  {
   "cell_type": "code",
   "execution_count": null,
   "id": "organic-institution",
   "metadata": {},
   "outputs": [],
   "source": [
    "System.out.println(fibo1(6));\n",
    "System.out.println(\"Expected: 8\");"
   ]
  },
  {
   "cell_type": "markdown",
   "id": "noted-identification",
   "metadata": {},
   "source": [
    "## Exercice 3: La suite Fibonacci (programmation dynamique)"
   ]
  },
  {
   "cell_type": "code",
   "execution_count": null,
   "id": "tutorial-fellowship",
   "metadata": {},
   "outputs": [],
   "source": [
    "int fibo2(int n) {\n",
    "    return 0;\n",
    "}"
   ]
  },
  {
   "cell_type": "code",
   "execution_count": null,
   "id": "victorian-wallet",
   "metadata": {},
   "outputs": [],
   "source": [
    "System.out.println(fibo2(6));\n",
    "System.out.println(\"Expected: 8\");"
   ]
  },
  {
   "cell_type": "markdown",
   "id": "exact-heading",
   "metadata": {},
   "source": [
    "Comparons le temps de calcul"
   ]
  },
  {
   "cell_type": "code",
   "execution_count": null,
   "id": "passive-sister",
   "metadata": {},
   "outputs": [],
   "source": [
    "System.out.println(\"Programmation dynamique: \" + fibo2(6));\n",
    "System.out.println(\"Diviser pour régner: \" + fibo1(6));"
   ]
  }
 ],
 "metadata": {
  "kernelspec": {
   "display_name": "Java",
   "language": "java",
   "name": "java"
  },
  "language_info": {
   "codemirror_mode": "java",
   "file_extension": ".jshell",
   "mimetype": "text/x-java-source",
   "name": "Java",
   "pygments_lexer": "java",
   "version": "15.0.1+9-18"
  }
 },
 "nbformat": 4,
 "nbformat_minor": 5
}
